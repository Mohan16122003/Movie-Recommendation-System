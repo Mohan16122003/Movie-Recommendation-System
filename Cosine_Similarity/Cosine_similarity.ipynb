{
 "cells": [
  {
   "cell_type": "code",
   "execution_count": 1,
   "id": "b1bee0b0",
   "metadata": {
    "execution": {
     "iopub.execute_input": "2023-07-30T08:31:02.342367Z",
     "iopub.status.busy": "2023-07-30T08:31:02.341942Z",
     "iopub.status.idle": "2023-07-30T08:31:02.353551Z",
     "shell.execute_reply": "2023-07-30T08:31:02.352443Z"
    },
    "papermill": {
     "duration": 0.02527,
     "end_time": "2023-07-30T08:31:02.355727",
     "exception": false,
     "start_time": "2023-07-30T08:31:02.330457",
     "status": "completed"
    },
    "tags": []
   },
   "outputs": [],
   "source": [
    "import numpy as np \n",
    "import pandas as pd \n",
    "import re"
   ]
  },
  {
   "cell_type": "code",
   "execution_count": 2,
   "id": "f4737d8c",
   "metadata": {
    "execution": {
     "iopub.execute_input": "2023-07-30T08:31:02.394988Z",
     "iopub.status.busy": "2023-07-30T08:31:02.394579Z",
     "iopub.status.idle": "2023-07-30T08:31:33.112438Z",
     "shell.execute_reply": "2023-07-30T08:31:33.111173Z"
    },
    "papermill": {
     "duration": 30.731704,
     "end_time": "2023-07-30T08:31:33.115772",
     "exception": false,
     "start_time": "2023-07-30T08:31:02.384068",
     "status": "completed"
    },
    "tags": []
   },
   "outputs": [],
   "source": [
    "movies  = pd.read_csv('/kaggle/input/recommendation-system/ml-25m/movies.csv')\n",
    "tags = pd.read_csv('/kaggle/input/recommendation-system/ml-25m/tags.csv')\n",
    "ratings = pd.read_csv('/kaggle/input/recommendation-system/ml-25m/ratings.csv')\n",
    "genome_score = pd.read_csv('/kaggle/input/recommendation-system/ml-25m/genome-scores.csv')\n",
    "genome_tags = pd.read_csv('/kaggle/input/recommendation-system/ml-25m/genome-tags.csv')\n"
   ]
  },
  {
   "cell_type": "code",
   "execution_count": 3,
   "id": "3c01e846",
   "metadata": {
    "execution": {
     "iopub.execute_input": "2023-07-30T08:31:33.137173Z",
     "iopub.status.busy": "2023-07-30T08:31:33.136723Z",
     "iopub.status.idle": "2023-07-30T08:31:33.162942Z",
     "shell.execute_reply": "2023-07-30T08:31:33.161817Z"
    },
    "papermill": {
     "duration": 0.0397,
     "end_time": "2023-07-30T08:31:33.165367",
     "exception": false,
     "start_time": "2023-07-30T08:31:33.125667",
     "status": "completed"
    },
    "tags": []
   },
   "outputs": [
    {
     "data": {
      "text/html": [
       "<div>\n",
       "<style scoped>\n",
       "    .dataframe tbody tr th:only-of-type {\n",
       "        vertical-align: middle;\n",
       "    }\n",
       "\n",
       "    .dataframe tbody tr th {\n",
       "        vertical-align: top;\n",
       "    }\n",
       "\n",
       "    .dataframe thead th {\n",
       "        text-align: right;\n",
       "    }\n",
       "</style>\n",
       "<table border=\"1\" class=\"dataframe\">\n",
       "  <thead>\n",
       "    <tr style=\"text-align: right;\">\n",
       "      <th></th>\n",
       "      <th>movieId</th>\n",
       "      <th>title</th>\n",
       "      <th>genres</th>\n",
       "    </tr>\n",
       "  </thead>\n",
       "  <tbody>\n",
       "    <tr>\n",
       "      <th>0</th>\n",
       "      <td>1</td>\n",
       "      <td>Toy Story (1995)</td>\n",
       "      <td>Adventure|Animation|Children|Comedy|Fantasy</td>\n",
       "    </tr>\n",
       "    <tr>\n",
       "      <th>1</th>\n",
       "      <td>2</td>\n",
       "      <td>Jumanji (1995)</td>\n",
       "      <td>Adventure|Children|Fantasy</td>\n",
       "    </tr>\n",
       "    <tr>\n",
       "      <th>2</th>\n",
       "      <td>3</td>\n",
       "      <td>Grumpier Old Men (1995)</td>\n",
       "      <td>Comedy|Romance</td>\n",
       "    </tr>\n",
       "  </tbody>\n",
       "</table>\n",
       "</div>"
      ],
      "text/plain": [
       "   movieId                    title  \\\n",
       "0        1         Toy Story (1995)   \n",
       "1        2           Jumanji (1995)   \n",
       "2        3  Grumpier Old Men (1995)   \n",
       "\n",
       "                                        genres  \n",
       "0  Adventure|Animation|Children|Comedy|Fantasy  \n",
       "1                   Adventure|Children|Fantasy  \n",
       "2                               Comedy|Romance  "
      ]
     },
     "execution_count": 3,
     "metadata": {},
     "output_type": "execute_result"
    }
   ],
   "source": [
    "movies.head(3)"
   ]
  },
  {
   "cell_type": "code",
   "execution_count": 4,
   "id": "dd01bc67",
   "metadata": {
    "execution": {
     "iopub.execute_input": "2023-07-30T08:31:33.186308Z",
     "iopub.status.busy": "2023-07-30T08:31:33.185909Z",
     "iopub.status.idle": "2023-07-30T08:31:33.192593Z",
     "shell.execute_reply": "2023-07-30T08:31:33.191516Z"
    },
    "papermill": {
     "duration": 0.01982,
     "end_time": "2023-07-30T08:31:33.194947",
     "exception": false,
     "start_time": "2023-07-30T08:31:33.175127",
     "status": "completed"
    },
    "tags": []
   },
   "outputs": [
    {
     "data": {
      "text/plain": [
       "(62423, 3)"
      ]
     },
     "execution_count": 4,
     "metadata": {},
     "output_type": "execute_result"
    }
   ],
   "source": [
    "movies.shape"
   ]
  },
  {
   "cell_type": "code",
   "execution_count": 5,
   "id": "6f2a0c92",
   "metadata": {
    "execution": {
     "iopub.execute_input": "2023-07-30T08:31:33.217540Z",
     "iopub.status.busy": "2023-07-30T08:31:33.217083Z",
     "iopub.status.idle": "2023-07-30T08:31:33.228583Z",
     "shell.execute_reply": "2023-07-30T08:31:33.227453Z"
    },
    "papermill": {
     "duration": 0.025001,
     "end_time": "2023-07-30T08:31:33.230973",
     "exception": false,
     "start_time": "2023-07-30T08:31:33.205972",
     "status": "completed"
    },
    "tags": []
   },
   "outputs": [
    {
     "data": {
      "text/html": [
       "<div>\n",
       "<style scoped>\n",
       "    .dataframe tbody tr th:only-of-type {\n",
       "        vertical-align: middle;\n",
       "    }\n",
       "\n",
       "    .dataframe tbody tr th {\n",
       "        vertical-align: top;\n",
       "    }\n",
       "\n",
       "    .dataframe thead th {\n",
       "        text-align: right;\n",
       "    }\n",
       "</style>\n",
       "<table border=\"1\" class=\"dataframe\">\n",
       "  <thead>\n",
       "    <tr style=\"text-align: right;\">\n",
       "      <th></th>\n",
       "      <th>userId</th>\n",
       "      <th>movieId</th>\n",
       "      <th>tag</th>\n",
       "      <th>timestamp</th>\n",
       "    </tr>\n",
       "  </thead>\n",
       "  <tbody>\n",
       "    <tr>\n",
       "      <th>0</th>\n",
       "      <td>3</td>\n",
       "      <td>260</td>\n",
       "      <td>classic</td>\n",
       "      <td>1439472355</td>\n",
       "    </tr>\n",
       "    <tr>\n",
       "      <th>1</th>\n",
       "      <td>3</td>\n",
       "      <td>260</td>\n",
       "      <td>sci-fi</td>\n",
       "      <td>1439472256</td>\n",
       "    </tr>\n",
       "    <tr>\n",
       "      <th>2</th>\n",
       "      <td>4</td>\n",
       "      <td>1732</td>\n",
       "      <td>dark comedy</td>\n",
       "      <td>1573943598</td>\n",
       "    </tr>\n",
       "  </tbody>\n",
       "</table>\n",
       "</div>"
      ],
      "text/plain": [
       "   userId  movieId          tag   timestamp\n",
       "0       3      260      classic  1439472355\n",
       "1       3      260       sci-fi  1439472256\n",
       "2       4     1732  dark comedy  1573943598"
      ]
     },
     "execution_count": 5,
     "metadata": {},
     "output_type": "execute_result"
    }
   ],
   "source": [
    "tags.head(3)"
   ]
  },
  {
   "cell_type": "code",
   "execution_count": 6,
   "id": "425b0f17",
   "metadata": {
    "execution": {
     "iopub.execute_input": "2023-07-30T08:31:33.254062Z",
     "iopub.status.busy": "2023-07-30T08:31:33.253635Z",
     "iopub.status.idle": "2023-07-30T08:31:33.266737Z",
     "shell.execute_reply": "2023-07-30T08:31:33.265538Z"
    },
    "papermill": {
     "duration": 0.027882,
     "end_time": "2023-07-30T08:31:33.269359",
     "exception": false,
     "start_time": "2023-07-30T08:31:33.241477",
     "status": "completed"
    },
    "tags": []
   },
   "outputs": [
    {
     "data": {
      "text/html": [
       "<div>\n",
       "<style scoped>\n",
       "    .dataframe tbody tr th:only-of-type {\n",
       "        vertical-align: middle;\n",
       "    }\n",
       "\n",
       "    .dataframe tbody tr th {\n",
       "        vertical-align: top;\n",
       "    }\n",
       "\n",
       "    .dataframe thead th {\n",
       "        text-align: right;\n",
       "    }\n",
       "</style>\n",
       "<table border=\"1\" class=\"dataframe\">\n",
       "  <thead>\n",
       "    <tr style=\"text-align: right;\">\n",
       "      <th></th>\n",
       "      <th>userId</th>\n",
       "      <th>movieId</th>\n",
       "      <th>rating</th>\n",
       "      <th>timestamp</th>\n",
       "    </tr>\n",
       "  </thead>\n",
       "  <tbody>\n",
       "    <tr>\n",
       "      <th>0</th>\n",
       "      <td>1</td>\n",
       "      <td>296</td>\n",
       "      <td>5.0</td>\n",
       "      <td>1147880044</td>\n",
       "    </tr>\n",
       "    <tr>\n",
       "      <th>1</th>\n",
       "      <td>1</td>\n",
       "      <td>306</td>\n",
       "      <td>3.5</td>\n",
       "      <td>1147868817</td>\n",
       "    </tr>\n",
       "    <tr>\n",
       "      <th>2</th>\n",
       "      <td>1</td>\n",
       "      <td>307</td>\n",
       "      <td>5.0</td>\n",
       "      <td>1147868828</td>\n",
       "    </tr>\n",
       "  </tbody>\n",
       "</table>\n",
       "</div>"
      ],
      "text/plain": [
       "   userId  movieId  rating   timestamp\n",
       "0       1      296     5.0  1147880044\n",
       "1       1      306     3.5  1147868817\n",
       "2       1      307     5.0  1147868828"
      ]
     },
     "execution_count": 6,
     "metadata": {},
     "output_type": "execute_result"
    }
   ],
   "source": [
    "ratings.head(3)"
   ]
  },
  {
   "cell_type": "code",
   "execution_count": 7,
   "id": "37c0a421",
   "metadata": {
    "execution": {
     "iopub.execute_input": "2023-07-30T08:31:33.292857Z",
     "iopub.status.busy": "2023-07-30T08:31:33.291721Z",
     "iopub.status.idle": "2023-07-30T08:31:33.298882Z",
     "shell.execute_reply": "2023-07-30T08:31:33.297993Z"
    },
    "papermill": {
     "duration": 0.021244,
     "end_time": "2023-07-30T08:31:33.301222",
     "exception": false,
     "start_time": "2023-07-30T08:31:33.279978",
     "status": "completed"
    },
    "tags": []
   },
   "outputs": [
    {
     "data": {
      "text/plain": [
       "(25000095, 4)"
      ]
     },
     "execution_count": 7,
     "metadata": {},
     "output_type": "execute_result"
    }
   ],
   "source": [
    "ratings.shape"
   ]
  },
  {
   "cell_type": "code",
   "execution_count": 8,
   "id": "1ca521b6",
   "metadata": {
    "execution": {
     "iopub.execute_input": "2023-07-30T08:31:33.324024Z",
     "iopub.status.busy": "2023-07-30T08:31:33.323610Z",
     "iopub.status.idle": "2023-07-30T08:31:33.334183Z",
     "shell.execute_reply": "2023-07-30T08:31:33.333026Z"
    },
    "papermill": {
     "duration": 0.024876,
     "end_time": "2023-07-30T08:31:33.336631",
     "exception": false,
     "start_time": "2023-07-30T08:31:33.311755",
     "status": "completed"
    },
    "tags": []
   },
   "outputs": [
    {
     "data": {
      "text/html": [
       "<div>\n",
       "<style scoped>\n",
       "    .dataframe tbody tr th:only-of-type {\n",
       "        vertical-align: middle;\n",
       "    }\n",
       "\n",
       "    .dataframe tbody tr th {\n",
       "        vertical-align: top;\n",
       "    }\n",
       "\n",
       "    .dataframe thead th {\n",
       "        text-align: right;\n",
       "    }\n",
       "</style>\n",
       "<table border=\"1\" class=\"dataframe\">\n",
       "  <thead>\n",
       "    <tr style=\"text-align: right;\">\n",
       "      <th></th>\n",
       "      <th>tagId</th>\n",
       "      <th>tag</th>\n",
       "    </tr>\n",
       "  </thead>\n",
       "  <tbody>\n",
       "    <tr>\n",
       "      <th>0</th>\n",
       "      <td>1</td>\n",
       "      <td>007</td>\n",
       "    </tr>\n",
       "    <tr>\n",
       "      <th>1</th>\n",
       "      <td>2</td>\n",
       "      <td>007 (series)</td>\n",
       "    </tr>\n",
       "    <tr>\n",
       "      <th>2</th>\n",
       "      <td>3</td>\n",
       "      <td>18th century</td>\n",
       "    </tr>\n",
       "  </tbody>\n",
       "</table>\n",
       "</div>"
      ],
      "text/plain": [
       "   tagId           tag\n",
       "0      1           007\n",
       "1      2  007 (series)\n",
       "2      3  18th century"
      ]
     },
     "execution_count": 8,
     "metadata": {},
     "output_type": "execute_result"
    }
   ],
   "source": [
    "genome_tags.head(3)"
   ]
  },
  {
   "cell_type": "code",
   "execution_count": 9,
   "id": "816dc511",
   "metadata": {
    "execution": {
     "iopub.execute_input": "2023-07-30T08:31:33.361300Z",
     "iopub.status.busy": "2023-07-30T08:31:33.360494Z",
     "iopub.status.idle": "2023-07-30T08:31:33.374964Z",
     "shell.execute_reply": "2023-07-30T08:31:33.373468Z"
    },
    "papermill": {
     "duration": 0.029977,
     "end_time": "2023-07-30T08:31:33.378026",
     "exception": false,
     "start_time": "2023-07-30T08:31:33.348049",
     "status": "completed"
    },
    "tags": []
   },
   "outputs": [],
   "source": [
    "genome_tags = genome_tags[~genome_tags['tag'].isin(['original', 'sequel', 'good sequel','sequels'])]\n"
   ]
  },
  {
   "cell_type": "code",
   "execution_count": 10,
   "id": "e4031c8e",
   "metadata": {
    "execution": {
     "iopub.execute_input": "2023-07-30T08:31:33.402180Z",
     "iopub.status.busy": "2023-07-30T08:31:33.401335Z",
     "iopub.status.idle": "2023-07-30T08:31:33.414568Z",
     "shell.execute_reply": "2023-07-30T08:31:33.413200Z"
    },
    "papermill": {
     "duration": 0.028045,
     "end_time": "2023-07-30T08:31:33.416967",
     "exception": false,
     "start_time": "2023-07-30T08:31:33.388922",
     "status": "completed"
    },
    "tags": []
   },
   "outputs": [
    {
     "data": {
      "text/html": [
       "<div>\n",
       "<style scoped>\n",
       "    .dataframe tbody tr th:only-of-type {\n",
       "        vertical-align: middle;\n",
       "    }\n",
       "\n",
       "    .dataframe tbody tr th {\n",
       "        vertical-align: top;\n",
       "    }\n",
       "\n",
       "    .dataframe thead th {\n",
       "        text-align: right;\n",
       "    }\n",
       "</style>\n",
       "<table border=\"1\" class=\"dataframe\">\n",
       "  <thead>\n",
       "    <tr style=\"text-align: right;\">\n",
       "      <th></th>\n",
       "      <th>tagId</th>\n",
       "      <th>tag</th>\n",
       "    </tr>\n",
       "  </thead>\n",
       "  <tbody>\n",
       "    <tr>\n",
       "      <th>0</th>\n",
       "      <td>1</td>\n",
       "      <td>007</td>\n",
       "    </tr>\n",
       "    <tr>\n",
       "      <th>1</th>\n",
       "      <td>2</td>\n",
       "      <td>007 (series)</td>\n",
       "    </tr>\n",
       "    <tr>\n",
       "      <th>2</th>\n",
       "      <td>3</td>\n",
       "      <td>18th century</td>\n",
       "    </tr>\n",
       "    <tr>\n",
       "      <th>3</th>\n",
       "      <td>4</td>\n",
       "      <td>1920s</td>\n",
       "    </tr>\n",
       "    <tr>\n",
       "      <th>4</th>\n",
       "      <td>5</td>\n",
       "      <td>1930s</td>\n",
       "    </tr>\n",
       "    <tr>\n",
       "      <th>...</th>\n",
       "      <td>...</td>\n",
       "      <td>...</td>\n",
       "    </tr>\n",
       "    <tr>\n",
       "      <th>1123</th>\n",
       "      <td>1124</td>\n",
       "      <td>writing</td>\n",
       "    </tr>\n",
       "    <tr>\n",
       "      <th>1124</th>\n",
       "      <td>1125</td>\n",
       "      <td>wuxia</td>\n",
       "    </tr>\n",
       "    <tr>\n",
       "      <th>1125</th>\n",
       "      <td>1126</td>\n",
       "      <td>wwii</td>\n",
       "    </tr>\n",
       "    <tr>\n",
       "      <th>1126</th>\n",
       "      <td>1127</td>\n",
       "      <td>zombie</td>\n",
       "    </tr>\n",
       "    <tr>\n",
       "      <th>1127</th>\n",
       "      <td>1128</td>\n",
       "      <td>zombies</td>\n",
       "    </tr>\n",
       "  </tbody>\n",
       "</table>\n",
       "<p>1124 rows × 2 columns</p>\n",
       "</div>"
      ],
      "text/plain": [
       "      tagId           tag\n",
       "0         1           007\n",
       "1         2  007 (series)\n",
       "2         3  18th century\n",
       "3         4         1920s\n",
       "4         5         1930s\n",
       "...     ...           ...\n",
       "1123   1124       writing\n",
       "1124   1125         wuxia\n",
       "1125   1126          wwii\n",
       "1126   1127        zombie\n",
       "1127   1128       zombies\n",
       "\n",
       "[1124 rows x 2 columns]"
      ]
     },
     "execution_count": 10,
     "metadata": {},
     "output_type": "execute_result"
    }
   ],
   "source": [
    "genome_tags"
   ]
  },
  {
   "cell_type": "code",
   "execution_count": 11,
   "id": "ae9605b8",
   "metadata": {
    "execution": {
     "iopub.execute_input": "2023-07-30T08:31:33.441146Z",
     "iopub.status.busy": "2023-07-30T08:31:33.440714Z",
     "iopub.status.idle": "2023-07-30T08:31:33.451990Z",
     "shell.execute_reply": "2023-07-30T08:31:33.450809Z"
    },
    "papermill": {
     "duration": 0.026186,
     "end_time": "2023-07-30T08:31:33.454538",
     "exception": false,
     "start_time": "2023-07-30T08:31:33.428352",
     "status": "completed"
    },
    "tags": []
   },
   "outputs": [
    {
     "data": {
      "text/html": [
       "<div>\n",
       "<style scoped>\n",
       "    .dataframe tbody tr th:only-of-type {\n",
       "        vertical-align: middle;\n",
       "    }\n",
       "\n",
       "    .dataframe tbody tr th {\n",
       "        vertical-align: top;\n",
       "    }\n",
       "\n",
       "    .dataframe thead th {\n",
       "        text-align: right;\n",
       "    }\n",
       "</style>\n",
       "<table border=\"1\" class=\"dataframe\">\n",
       "  <thead>\n",
       "    <tr style=\"text-align: right;\">\n",
       "      <th></th>\n",
       "      <th>movieId</th>\n",
       "      <th>tagId</th>\n",
       "      <th>relevance</th>\n",
       "    </tr>\n",
       "  </thead>\n",
       "  <tbody>\n",
       "    <tr>\n",
       "      <th>0</th>\n",
       "      <td>1</td>\n",
       "      <td>1</td>\n",
       "      <td>0.02875</td>\n",
       "    </tr>\n",
       "    <tr>\n",
       "      <th>1</th>\n",
       "      <td>1</td>\n",
       "      <td>2</td>\n",
       "      <td>0.02375</td>\n",
       "    </tr>\n",
       "    <tr>\n",
       "      <th>2</th>\n",
       "      <td>1</td>\n",
       "      <td>3</td>\n",
       "      <td>0.06250</td>\n",
       "    </tr>\n",
       "  </tbody>\n",
       "</table>\n",
       "</div>"
      ],
      "text/plain": [
       "   movieId  tagId  relevance\n",
       "0        1      1    0.02875\n",
       "1        1      2    0.02375\n",
       "2        1      3    0.06250"
      ]
     },
     "execution_count": 11,
     "metadata": {},
     "output_type": "execute_result"
    }
   ],
   "source": [
    "genome_score.head(3)"
   ]
  },
  {
   "cell_type": "markdown",
   "id": "26527de8",
   "metadata": {},
   "source": [
    "* Group the data by 'movieId' and apply a lambda function to get the top 2 tags for each movie\n",
    "* Convert the result to a dataframe"
   ]
  },
  {
   "cell_type": "code",
   "execution_count": 12,
   "id": "390053f2",
   "metadata": {
    "execution": {
     "iopub.execute_input": "2023-07-30T08:31:33.479242Z",
     "iopub.status.busy": "2023-07-30T08:31:33.478529Z",
     "iopub.status.idle": "2023-07-30T08:31:57.533629Z",
     "shell.execute_reply": "2023-07-30T08:31:57.532441Z"
    },
    "papermill": {
     "duration": 24.070653,
     "end_time": "2023-07-30T08:31:57.536322",
     "exception": false,
     "start_time": "2023-07-30T08:31:33.465669",
     "status": "completed"
    },
    "tags": []
   },
   "outputs": [],
   "source": [
    "merged = pd.merge(genome_score, genome_tags, on='tagId')\n",
    "\n",
    "# Group the data by 'movieId' and apply a lambda function to get the top 2 tags for each movie\n",
    "top_tags = merged.groupby('movieId').apply(lambda x: x.nlargest(5, 'relevance')['tag'].tolist())\n",
    "\n",
    "\n",
    "top_tags_df = top_tags.reset_index(name='top_relevance')"
   ]
  },
  {
   "cell_type": "code",
   "execution_count": 13,
   "id": "de458c4b",
   "metadata": {
    "execution": {
     "iopub.execute_input": "2023-07-30T08:31:57.560534Z",
     "iopub.status.busy": "2023-07-30T08:31:57.560164Z",
     "iopub.status.idle": "2023-07-30T08:31:57.576149Z",
     "shell.execute_reply": "2023-07-30T08:31:57.575075Z"
    },
    "papermill": {
     "duration": 0.031259,
     "end_time": "2023-07-30T08:31:57.578804",
     "exception": false,
     "start_time": "2023-07-30T08:31:57.547545",
     "status": "completed"
    },
    "tags": []
   },
   "outputs": [
    {
     "data": {
      "text/html": [
       "<div>\n",
       "<style scoped>\n",
       "    .dataframe tbody tr th:only-of-type {\n",
       "        vertical-align: middle;\n",
       "    }\n",
       "\n",
       "    .dataframe tbody tr th {\n",
       "        vertical-align: top;\n",
       "    }\n",
       "\n",
       "    .dataframe thead th {\n",
       "        text-align: right;\n",
       "    }\n",
       "</style>\n",
       "<table border=\"1\" class=\"dataframe\">\n",
       "  <thead>\n",
       "    <tr style=\"text-align: right;\">\n",
       "      <th></th>\n",
       "      <th>movieId</th>\n",
       "      <th>top_relevance</th>\n",
       "    </tr>\n",
       "  </thead>\n",
       "  <tbody>\n",
       "    <tr>\n",
       "      <th>0</th>\n",
       "      <td>1</td>\n",
       "      <td>[toys, computer animation, pixar animation, ki...</td>\n",
       "    </tr>\n",
       "    <tr>\n",
       "      <th>1</th>\n",
       "      <td>2</td>\n",
       "      <td>[adventure, children, fantasy, kids, special e...</td>\n",
       "    </tr>\n",
       "    <tr>\n",
       "      <th>2</th>\n",
       "      <td>3</td>\n",
       "      <td>[comedy, gunfight, romance, destiny, great]</td>\n",
       "    </tr>\n",
       "    <tr>\n",
       "      <th>3</th>\n",
       "      <td>4</td>\n",
       "      <td>[women, chick flick, divorce, girlie movie, ro...</td>\n",
       "    </tr>\n",
       "    <tr>\n",
       "      <th>4</th>\n",
       "      <td>5</td>\n",
       "      <td>[father daughter relationship, pregnancy, midl...</td>\n",
       "    </tr>\n",
       "    <tr>\n",
       "      <th>...</th>\n",
       "      <td>...</td>\n",
       "      <td>...</td>\n",
       "    </tr>\n",
       "    <tr>\n",
       "      <th>13811</th>\n",
       "      <td>205072</td>\n",
       "      <td>[dumb but funny, friendship, runaway, great mo...</td>\n",
       "    </tr>\n",
       "    <tr>\n",
       "      <th>13812</th>\n",
       "      <td>205076</td>\n",
       "      <td>[girlie movie, light, feel-good, oscar (best w...</td>\n",
       "    </tr>\n",
       "    <tr>\n",
       "      <th>13813</th>\n",
       "      <td>205383</td>\n",
       "      <td>[chase, suspense, clever, drama, great ending]</td>\n",
       "    </tr>\n",
       "    <tr>\n",
       "      <th>13814</th>\n",
       "      <td>205425</td>\n",
       "      <td>[stand-up comedy, comedy, highly quotable, ver...</td>\n",
       "    </tr>\n",
       "    <tr>\n",
       "      <th>13815</th>\n",
       "      <td>206499</td>\n",
       "      <td>[pg-13, light, road trip, pornography, justice]</td>\n",
       "    </tr>\n",
       "  </tbody>\n",
       "</table>\n",
       "<p>13816 rows × 2 columns</p>\n",
       "</div>"
      ],
      "text/plain": [
       "       movieId                                      top_relevance\n",
       "0            1  [toys, computer animation, pixar animation, ki...\n",
       "1            2  [adventure, children, fantasy, kids, special e...\n",
       "2            3        [comedy, gunfight, romance, destiny, great]\n",
       "3            4  [women, chick flick, divorce, girlie movie, ro...\n",
       "4            5  [father daughter relationship, pregnancy, midl...\n",
       "...        ...                                                ...\n",
       "13811   205072  [dumb but funny, friendship, runaway, great mo...\n",
       "13812   205076  [girlie movie, light, feel-good, oscar (best w...\n",
       "13813   205383     [chase, suspense, clever, drama, great ending]\n",
       "13814   205425  [stand-up comedy, comedy, highly quotable, ver...\n",
       "13815   206499    [pg-13, light, road trip, pornography, justice]\n",
       "\n",
       "[13816 rows x 2 columns]"
      ]
     },
     "execution_count": 13,
     "metadata": {},
     "output_type": "execute_result"
    }
   ],
   "source": [
    "top_tags_df"
   ]
  },
  {
   "cell_type": "code",
   "execution_count": 14,
   "id": "8fdf40f9",
   "metadata": {
    "execution": {
     "iopub.execute_input": "2023-07-30T08:31:57.603394Z",
     "iopub.status.busy": "2023-07-30T08:31:57.602949Z",
     "iopub.status.idle": "2023-07-30T08:31:57.642897Z",
     "shell.execute_reply": "2023-07-30T08:31:57.641765Z"
    },
    "papermill": {
     "duration": 0.055228,
     "end_time": "2023-07-30T08:31:57.645540",
     "exception": false,
     "start_time": "2023-07-30T08:31:57.590312",
     "status": "completed"
    },
    "tags": []
   },
   "outputs": [],
   "source": [
    "movies = pd.merge(top_tags_df, movies[['movieId', 'title','genres']], on='movieId')\n",
    "movies = movies.fillna(' ')\n"
   ]
  },
  {
   "cell_type": "code",
   "execution_count": 15,
   "id": "c77bf1c7",
   "metadata": {
    "execution": {
     "iopub.execute_input": "2023-07-30T08:31:57.670118Z",
     "iopub.status.busy": "2023-07-30T08:31:57.669697Z",
     "iopub.status.idle": "2023-07-30T08:31:57.688405Z",
     "shell.execute_reply": "2023-07-30T08:31:57.687379Z"
    },
    "papermill": {
     "duration": 0.033501,
     "end_time": "2023-07-30T08:31:57.690651",
     "exception": false,
     "start_time": "2023-07-30T08:31:57.657150",
     "status": "completed"
    },
    "tags": []
   },
   "outputs": [
    {
     "data": {
      "text/html": [
       "<div>\n",
       "<style scoped>\n",
       "    .dataframe tbody tr th:only-of-type {\n",
       "        vertical-align: middle;\n",
       "    }\n",
       "\n",
       "    .dataframe tbody tr th {\n",
       "        vertical-align: top;\n",
       "    }\n",
       "\n",
       "    .dataframe thead th {\n",
       "        text-align: right;\n",
       "    }\n",
       "</style>\n",
       "<table border=\"1\" class=\"dataframe\">\n",
       "  <thead>\n",
       "    <tr style=\"text-align: right;\">\n",
       "      <th></th>\n",
       "      <th>movieId</th>\n",
       "      <th>top_relevance</th>\n",
       "      <th>title</th>\n",
       "      <th>genres</th>\n",
       "    </tr>\n",
       "  </thead>\n",
       "  <tbody>\n",
       "    <tr>\n",
       "      <th>0</th>\n",
       "      <td>1</td>\n",
       "      <td>[toys, computer animation, pixar animation, ki...</td>\n",
       "      <td>Toy Story (1995)</td>\n",
       "      <td>Adventure|Animation|Children|Comedy|Fantasy</td>\n",
       "    </tr>\n",
       "    <tr>\n",
       "      <th>1</th>\n",
       "      <td>2</td>\n",
       "      <td>[adventure, children, fantasy, kids, special e...</td>\n",
       "      <td>Jumanji (1995)</td>\n",
       "      <td>Adventure|Children|Fantasy</td>\n",
       "    </tr>\n",
       "    <tr>\n",
       "      <th>2</th>\n",
       "      <td>3</td>\n",
       "      <td>[comedy, gunfight, romance, destiny, great]</td>\n",
       "      <td>Grumpier Old Men (1995)</td>\n",
       "      <td>Comedy|Romance</td>\n",
       "    </tr>\n",
       "    <tr>\n",
       "      <th>3</th>\n",
       "      <td>4</td>\n",
       "      <td>[women, chick flick, divorce, girlie movie, ro...</td>\n",
       "      <td>Waiting to Exhale (1995)</td>\n",
       "      <td>Comedy|Drama|Romance</td>\n",
       "    </tr>\n",
       "    <tr>\n",
       "      <th>4</th>\n",
       "      <td>5</td>\n",
       "      <td>[father daughter relationship, pregnancy, midl...</td>\n",
       "      <td>Father of the Bride Part II (1995)</td>\n",
       "      <td>Comedy</td>\n",
       "    </tr>\n",
       "    <tr>\n",
       "      <th>...</th>\n",
       "      <td>...</td>\n",
       "      <td>...</td>\n",
       "      <td>...</td>\n",
       "      <td>...</td>\n",
       "    </tr>\n",
       "    <tr>\n",
       "      <th>13811</th>\n",
       "      <td>205072</td>\n",
       "      <td>[dumb but funny, friendship, runaway, great mo...</td>\n",
       "      <td>Zombieland: Double Tap (2019)</td>\n",
       "      <td>Action|Comedy|Horror</td>\n",
       "    </tr>\n",
       "    <tr>\n",
       "      <th>13812</th>\n",
       "      <td>205076</td>\n",
       "      <td>[girlie movie, light, feel-good, oscar (best w...</td>\n",
       "      <td>Downton Abbey (2019)</td>\n",
       "      <td>Drama</td>\n",
       "    </tr>\n",
       "    <tr>\n",
       "      <th>13813</th>\n",
       "      <td>205383</td>\n",
       "      <td>[chase, suspense, clever, drama, great ending]</td>\n",
       "      <td>El Camino: A Breaking Bad Movie (2019)</td>\n",
       "      <td>Crime|Drama|Thriller</td>\n",
       "    </tr>\n",
       "    <tr>\n",
       "      <th>13814</th>\n",
       "      <td>205425</td>\n",
       "      <td>[stand-up comedy, comedy, highly quotable, ver...</td>\n",
       "      <td>Dave Chappelle: Sticks &amp; Stones (2019)</td>\n",
       "      <td>Comedy</td>\n",
       "    </tr>\n",
       "    <tr>\n",
       "      <th>13815</th>\n",
       "      <td>206499</td>\n",
       "      <td>[pg-13, light, road trip, pornography, justice]</td>\n",
       "      <td>Between Two Ferns: The Movie (2019)</td>\n",
       "      <td>Comedy</td>\n",
       "    </tr>\n",
       "  </tbody>\n",
       "</table>\n",
       "<p>13816 rows × 4 columns</p>\n",
       "</div>"
      ],
      "text/plain": [
       "       movieId                                      top_relevance  \\\n",
       "0            1  [toys, computer animation, pixar animation, ki...   \n",
       "1            2  [adventure, children, fantasy, kids, special e...   \n",
       "2            3        [comedy, gunfight, romance, destiny, great]   \n",
       "3            4  [women, chick flick, divorce, girlie movie, ro...   \n",
       "4            5  [father daughter relationship, pregnancy, midl...   \n",
       "...        ...                                                ...   \n",
       "13811   205072  [dumb but funny, friendship, runaway, great mo...   \n",
       "13812   205076  [girlie movie, light, feel-good, oscar (best w...   \n",
       "13813   205383     [chase, suspense, clever, drama, great ending]   \n",
       "13814   205425  [stand-up comedy, comedy, highly quotable, ver...   \n",
       "13815   206499    [pg-13, light, road trip, pornography, justice]   \n",
       "\n",
       "                                        title  \\\n",
       "0                            Toy Story (1995)   \n",
       "1                              Jumanji (1995)   \n",
       "2                     Grumpier Old Men (1995)   \n",
       "3                    Waiting to Exhale (1995)   \n",
       "4          Father of the Bride Part II (1995)   \n",
       "...                                       ...   \n",
       "13811           Zombieland: Double Tap (2019)   \n",
       "13812                    Downton Abbey (2019)   \n",
       "13813  El Camino: A Breaking Bad Movie (2019)   \n",
       "13814  Dave Chappelle: Sticks & Stones (2019)   \n",
       "13815     Between Two Ferns: The Movie (2019)   \n",
       "\n",
       "                                            genres  \n",
       "0      Adventure|Animation|Children|Comedy|Fantasy  \n",
       "1                       Adventure|Children|Fantasy  \n",
       "2                                   Comedy|Romance  \n",
       "3                             Comedy|Drama|Romance  \n",
       "4                                           Comedy  \n",
       "...                                            ...  \n",
       "13811                         Action|Comedy|Horror  \n",
       "13812                                        Drama  \n",
       "13813                         Crime|Drama|Thriller  \n",
       "13814                                       Comedy  \n",
       "13815                                       Comedy  \n",
       "\n",
       "[13816 rows x 4 columns]"
      ]
     },
     "execution_count": 15,
     "metadata": {},
     "output_type": "execute_result"
    }
   ],
   "source": [
    "movies"
   ]
  },
  {
   "cell_type": "code",
   "execution_count": 16,
   "id": "847f6597",
   "metadata": {
    "execution": {
     "iopub.execute_input": "2023-07-30T08:31:57.715265Z",
     "iopub.status.busy": "2023-07-30T08:31:57.714889Z",
     "iopub.status.idle": "2023-07-30T08:31:57.763512Z",
     "shell.execute_reply": "2023-07-30T08:31:57.762406Z"
    },
    "papermill": {
     "duration": 0.063969,
     "end_time": "2023-07-30T08:31:57.766061",
     "exception": false,
     "start_time": "2023-07-30T08:31:57.702092",
     "status": "completed"
    },
    "tags": []
   },
   "outputs": [],
   "source": [
    "movies['genres'] = movies['genres'].apply(lambda x: re.sub(r'\\|', ' ', x).lower())\n",
    "movies['top_relevance'] = movies['top_relevance'].apply(lambda x: ' '.join(x).replace('-',' '))"
   ]
  },
  {
   "cell_type": "code",
   "execution_count": 17,
   "id": "dc83712d",
   "metadata": {
    "execution": {
     "iopub.execute_input": "2023-07-30T08:31:57.791004Z",
     "iopub.status.busy": "2023-07-30T08:31:57.790625Z",
     "iopub.status.idle": "2023-07-30T08:31:57.804339Z",
     "shell.execute_reply": "2023-07-30T08:31:57.803395Z"
    },
    "papermill": {
     "duration": 0.028556,
     "end_time": "2023-07-30T08:31:57.806415",
     "exception": false,
     "start_time": "2023-07-30T08:31:57.777859",
     "status": "completed"
    },
    "tags": []
   },
   "outputs": [
    {
     "data": {
      "text/html": [
       "<div>\n",
       "<style scoped>\n",
       "    .dataframe tbody tr th:only-of-type {\n",
       "        vertical-align: middle;\n",
       "    }\n",
       "\n",
       "    .dataframe tbody tr th {\n",
       "        vertical-align: top;\n",
       "    }\n",
       "\n",
       "    .dataframe thead th {\n",
       "        text-align: right;\n",
       "    }\n",
       "</style>\n",
       "<table border=\"1\" class=\"dataframe\">\n",
       "  <thead>\n",
       "    <tr style=\"text-align: right;\">\n",
       "      <th></th>\n",
       "      <th>movieId</th>\n",
       "      <th>top_relevance</th>\n",
       "      <th>title</th>\n",
       "      <th>genres</th>\n",
       "    </tr>\n",
       "  </thead>\n",
       "  <tbody>\n",
       "    <tr>\n",
       "      <th>0</th>\n",
       "      <td>1</td>\n",
       "      <td>toys computer animation pixar animation kids a...</td>\n",
       "      <td>Toy Story (1995)</td>\n",
       "      <td>adventure animation children comedy fantasy</td>\n",
       "    </tr>\n",
       "    <tr>\n",
       "      <th>1</th>\n",
       "      <td>2</td>\n",
       "      <td>adventure children fantasy kids special effects</td>\n",
       "      <td>Jumanji (1995)</td>\n",
       "      <td>adventure children fantasy</td>\n",
       "    </tr>\n",
       "    <tr>\n",
       "      <th>2</th>\n",
       "      <td>3</td>\n",
       "      <td>comedy gunfight romance destiny great</td>\n",
       "      <td>Grumpier Old Men (1995)</td>\n",
       "      <td>comedy romance</td>\n",
       "    </tr>\n",
       "    <tr>\n",
       "      <th>3</th>\n",
       "      <td>4</td>\n",
       "      <td>women chick flick divorce girlie movie romantic</td>\n",
       "      <td>Waiting to Exhale (1995)</td>\n",
       "      <td>comedy drama romance</td>\n",
       "    </tr>\n",
       "    <tr>\n",
       "      <th>4</th>\n",
       "      <td>5</td>\n",
       "      <td>father daughter relationship pregnancy midlife...</td>\n",
       "      <td>Father of the Bride Part II (1995)</td>\n",
       "      <td>comedy</td>\n",
       "    </tr>\n",
       "    <tr>\n",
       "      <th>...</th>\n",
       "      <td>...</td>\n",
       "      <td>...</td>\n",
       "      <td>...</td>\n",
       "      <td>...</td>\n",
       "    </tr>\n",
       "    <tr>\n",
       "      <th>13811</th>\n",
       "      <td>205072</td>\n",
       "      <td>dumb but funny friendship runaway great movie ...</td>\n",
       "      <td>Zombieland: Double Tap (2019)</td>\n",
       "      <td>action comedy horror</td>\n",
       "    </tr>\n",
       "    <tr>\n",
       "      <th>13812</th>\n",
       "      <td>205076</td>\n",
       "      <td>girlie movie light feel good oscar (best writi...</td>\n",
       "      <td>Downton Abbey (2019)</td>\n",
       "      <td>drama</td>\n",
       "    </tr>\n",
       "    <tr>\n",
       "      <th>13813</th>\n",
       "      <td>205383</td>\n",
       "      <td>chase suspense clever drama great ending</td>\n",
       "      <td>El Camino: A Breaking Bad Movie (2019)</td>\n",
       "      <td>crime drama thriller</td>\n",
       "    </tr>\n",
       "    <tr>\n",
       "      <th>13814</th>\n",
       "      <td>205425</td>\n",
       "      <td>stand up comedy comedy highly quotable very fu...</td>\n",
       "      <td>Dave Chappelle: Sticks &amp; Stones (2019)</td>\n",
       "      <td>comedy</td>\n",
       "    </tr>\n",
       "    <tr>\n",
       "      <th>13815</th>\n",
       "      <td>206499</td>\n",
       "      <td>pg 13 light road trip pornography justice</td>\n",
       "      <td>Between Two Ferns: The Movie (2019)</td>\n",
       "      <td>comedy</td>\n",
       "    </tr>\n",
       "  </tbody>\n",
       "</table>\n",
       "<p>13816 rows × 4 columns</p>\n",
       "</div>"
      ],
      "text/plain": [
       "       movieId                                      top_relevance  \\\n",
       "0            1  toys computer animation pixar animation kids a...   \n",
       "1            2    adventure children fantasy kids special effects   \n",
       "2            3              comedy gunfight romance destiny great   \n",
       "3            4    women chick flick divorce girlie movie romantic   \n",
       "4            5  father daughter relationship pregnancy midlife...   \n",
       "...        ...                                                ...   \n",
       "13811   205072  dumb but funny friendship runaway great movie ...   \n",
       "13812   205076  girlie movie light feel good oscar (best writi...   \n",
       "13813   205383           chase suspense clever drama great ending   \n",
       "13814   205425  stand up comedy comedy highly quotable very fu...   \n",
       "13815   206499          pg 13 light road trip pornography justice   \n",
       "\n",
       "                                        title  \\\n",
       "0                            Toy Story (1995)   \n",
       "1                              Jumanji (1995)   \n",
       "2                     Grumpier Old Men (1995)   \n",
       "3                    Waiting to Exhale (1995)   \n",
       "4          Father of the Bride Part II (1995)   \n",
       "...                                       ...   \n",
       "13811           Zombieland: Double Tap (2019)   \n",
       "13812                    Downton Abbey (2019)   \n",
       "13813  El Camino: A Breaking Bad Movie (2019)   \n",
       "13814  Dave Chappelle: Sticks & Stones (2019)   \n",
       "13815     Between Two Ferns: The Movie (2019)   \n",
       "\n",
       "                                            genres  \n",
       "0      adventure animation children comedy fantasy  \n",
       "1                       adventure children fantasy  \n",
       "2                                   comedy romance  \n",
       "3                             comedy drama romance  \n",
       "4                                           comedy  \n",
       "...                                            ...  \n",
       "13811                         action comedy horror  \n",
       "13812                                        drama  \n",
       "13813                         crime drama thriller  \n",
       "13814                                       comedy  \n",
       "13815                                       comedy  \n",
       "\n",
       "[13816 rows x 4 columns]"
      ]
     },
     "execution_count": 17,
     "metadata": {},
     "output_type": "execute_result"
    }
   ],
   "source": [
    "movies"
   ]
  },
  {
   "cell_type": "code",
   "execution_count": 18,
   "id": "8dbfb1d4",
   "metadata": {
    "execution": {
     "iopub.execute_input": "2023-07-30T08:31:57.832259Z",
     "iopub.status.busy": "2023-07-30T08:31:57.831575Z",
     "iopub.status.idle": "2023-07-30T08:31:57.846391Z",
     "shell.execute_reply": "2023-07-30T08:31:57.845331Z"
    },
    "papermill": {
     "duration": 0.030191,
     "end_time": "2023-07-30T08:31:57.848629",
     "exception": false,
     "start_time": "2023-07-30T08:31:57.818438",
     "status": "completed"
    },
    "tags": []
   },
   "outputs": [
    {
     "data": {
      "text/html": [
       "<div>\n",
       "<style scoped>\n",
       "    .dataframe tbody tr th:only-of-type {\n",
       "        vertical-align: middle;\n",
       "    }\n",
       "\n",
       "    .dataframe tbody tr th {\n",
       "        vertical-align: top;\n",
       "    }\n",
       "\n",
       "    .dataframe thead th {\n",
       "        text-align: right;\n",
       "    }\n",
       "</style>\n",
       "<table border=\"1\" class=\"dataframe\">\n",
       "  <thead>\n",
       "    <tr style=\"text-align: right;\">\n",
       "      <th></th>\n",
       "      <th>movieId</th>\n",
       "      <th>top_relevance</th>\n",
       "      <th>title</th>\n",
       "      <th>genres</th>\n",
       "    </tr>\n",
       "  </thead>\n",
       "  <tbody>\n",
       "    <tr>\n",
       "      <th>13811</th>\n",
       "      <td>205072</td>\n",
       "      <td>dumb but funny friendship runaway great movie ...</td>\n",
       "      <td>Zombieland: Double Tap (2019)</td>\n",
       "      <td>action comedy horror</td>\n",
       "    </tr>\n",
       "  </tbody>\n",
       "</table>\n",
       "</div>"
      ],
      "text/plain": [
       "       movieId                                      top_relevance  \\\n",
       "13811   205072  dumb but funny friendship runaway great movie ...   \n",
       "\n",
       "                               title                genres  \n",
       "13811  Zombieland: Double Tap (2019)  action comedy horror  "
      ]
     },
     "execution_count": 18,
     "metadata": {},
     "output_type": "execute_result"
    }
   ],
   "source": [
    "movies[movies['title'] == 'Zombieland: Double Tap (2019)']"
   ]
  },
  {
   "cell_type": "code",
   "execution_count": 19,
   "id": "194b57ae",
   "metadata": {
    "execution": {
     "iopub.execute_input": "2023-07-30T08:31:57.875628Z",
     "iopub.status.busy": "2023-07-30T08:31:57.874890Z",
     "iopub.status.idle": "2023-07-30T08:31:57.886852Z",
     "shell.execute_reply": "2023-07-30T08:31:57.885619Z"
    },
    "papermill": {
     "duration": 0.028397,
     "end_time": "2023-07-30T08:31:57.889292",
     "exception": false,
     "start_time": "2023-07-30T08:31:57.860895",
     "status": "completed"
    },
    "tags": []
   },
   "outputs": [],
   "source": [
    "movies['combine_relevant'] = movies['top_relevance']+\" \"+movies['genres']"
   ]
  },
  {
   "cell_type": "code",
   "execution_count": 20,
   "id": "e88eec95",
   "metadata": {
    "execution": {
     "iopub.execute_input": "2023-07-30T08:31:57.916163Z",
     "iopub.status.busy": "2023-07-30T08:31:57.915370Z",
     "iopub.status.idle": "2023-07-30T08:32:04.318005Z",
     "shell.execute_reply": "2023-07-30T08:32:04.316562Z"
    },
    "papermill": {
     "duration": 6.419267,
     "end_time": "2023-07-30T08:32:04.320916",
     "exception": false,
     "start_time": "2023-07-30T08:31:57.901649",
     "status": "completed"
    },
    "tags": []
   },
   "outputs": [
    {
     "name": "stderr",
     "output_type": "stream",
     "text": [
      "/opt/conda/lib/python3.10/site-packages/scipy/__init__.py:146: UserWarning: A NumPy version >=1.16.5 and <1.23.0 is required for this version of SciPy (detected version 1.23.5\n",
      "  warnings.warn(f\"A NumPy version >={np_minversion} and <{np_maxversion}\"\n"
     ]
    }
   ],
   "source": [
    "from sklearn.metrics.pairwise import cosine_similarity\n",
    "from sklearn.feature_extraction.text import CountVectorizer\n",
    "\n",
    "counter_vec = CountVectorizer(stop_words='english',max_features=1500)\n",
    "counter_vec.fit(movies['combine_relevant'])\n",
    "\n",
    "gerne_vec_tags = counter_vec.transform(movies['top_relevance'])*0.3 # change the importance\n",
    "gerne_vec_geners = counter_vec.transform(movies['genres'])*1 \n",
    "\n",
    "gerne_vec = gerne_vec_tags+gerne_vec_geners\n",
    "\n",
    "\n",
    "cos_similar = cosine_similarity(gerne_vec,gerne_vec)"
   ]
  },
  {
   "cell_type": "code",
   "execution_count": 21,
   "id": "aa227b5d",
   "metadata": {
    "execution": {
     "iopub.execute_input": "2023-07-30T08:32:04.349601Z",
     "iopub.status.busy": "2023-07-30T08:32:04.348712Z",
     "iopub.status.idle": "2023-07-30T08:32:04.356259Z",
     "shell.execute_reply": "2023-07-30T08:32:04.355126Z"
    },
    "papermill": {
     "duration": 0.024409,
     "end_time": "2023-07-30T08:32:04.358559",
     "exception": false,
     "start_time": "2023-07-30T08:32:04.334150",
     "status": "completed"
    },
    "tags": []
   },
   "outputs": [
    {
     "data": {
      "text/plain": [
       "(13816, 13816)"
      ]
     },
     "execution_count": 21,
     "metadata": {},
     "output_type": "execute_result"
    }
   ],
   "source": [
    "cos_similar.shape"
   ]
  },
  {
   "cell_type": "code",
   "execution_count": 22,
   "id": "09a0605b",
   "metadata": {
    "execution": {
     "iopub.execute_input": "2023-07-30T08:32:04.411940Z",
     "iopub.status.busy": "2023-07-30T08:32:04.411297Z",
     "iopub.status.idle": "2023-07-30T08:32:04.418160Z",
     "shell.execute_reply": "2023-07-30T08:32:04.417424Z"
    },
    "papermill": {
     "duration": 0.023178,
     "end_time": "2023-07-30T08:32:04.420256",
     "exception": false,
     "start_time": "2023-07-30T08:32:04.397078",
     "status": "completed"
    },
    "tags": []
   },
   "outputs": [],
   "source": [
    "movie_title_series = pd.Series(movies.index,movies['title'])\n",
    "\n",
    "def get_recommend(title,cosine_sim = cos_similar):\n",
    "    movie_name = movie_title_series[title]\n",
    "    \n",
    "    \n",
    "    sim_scores = list(enumerate(cosine_sim[movie_name]))\n",
    "\n",
    "\n",
    "    sim_scores = sorted(sim_scores, key=lambda x: x[1], reverse=True)\n",
    "\n",
    "    sim_scores = sim_scores[1:11]\n",
    "\n",
    "    movie_indices = [i[0] for i in sim_scores]\n",
    "\n",
    "    return movies['title'].iloc[movie_indices]"
   ]
  },
  {
   "cell_type": "code",
   "execution_count": 23,
   "id": "30b80db8",
   "metadata": {
    "execution": {
     "iopub.execute_input": "2023-07-30T08:32:04.447142Z",
     "iopub.status.busy": "2023-07-30T08:32:04.446469Z",
     "iopub.status.idle": "2023-07-30T08:32:04.471036Z",
     "shell.execute_reply": "2023-07-30T08:32:04.469922Z"
    },
    "papermill": {
     "duration": 0.040731,
     "end_time": "2023-07-30T08:32:04.473501",
     "exception": false,
     "start_time": "2023-07-30T08:32:04.432770",
     "status": "completed"
    },
    "tags": []
   },
   "outputs": [
    {
     "data": {
      "text/plain": [
       "9966                                Zombieland (2009)\n",
       "11768                               Zombeavers (2014)\n",
       "12548    Scouts Guide to the Zombie Apocalypse (2015)\n",
       "2934                  Buffy the Vampire Slayer (1992)\n",
       "11957               Dead Snow 2: Red vs. Dead (2014) \n",
       "13476                               Game Night (2018)\n",
       "6779       Citizen Toxie: The Toxic Avenger IV (2000)\n",
       "6543                                    Versus (2000)\n",
       "8682                                     Feast (2005)\n",
       "1923                       Surf Nazis Must Die (1987)\n",
       "Name: title, dtype: object"
      ]
     },
     "execution_count": 23,
     "metadata": {},
     "output_type": "execute_result"
    }
   ],
   "source": [
    "get_recommend('Zombieland: Double Tap (2019)')"
   ]
  },
  {
   "cell_type": "code",
   "execution_count": 24,
   "id": "d3c39de9",
   "metadata": {
    "execution": {
     "iopub.execute_input": "2023-07-30T08:32:04.501604Z",
     "iopub.status.busy": "2023-07-30T08:32:04.500810Z",
     "iopub.status.idle": "2023-07-30T08:32:04.517200Z",
     "shell.execute_reply": "2023-07-30T08:32:04.516131Z"
    },
    "papermill": {
     "duration": 0.03287,
     "end_time": "2023-07-30T08:32:04.519485",
     "exception": false,
     "start_time": "2023-07-30T08:32:04.486615",
     "status": "completed"
    },
    "tags": []
   },
   "outputs": [
    {
     "data": {
      "text/html": [
       "<div>\n",
       "<style scoped>\n",
       "    .dataframe tbody tr th:only-of-type {\n",
       "        vertical-align: middle;\n",
       "    }\n",
       "\n",
       "    .dataframe tbody tr th {\n",
       "        vertical-align: top;\n",
       "    }\n",
       "\n",
       "    .dataframe thead th {\n",
       "        text-align: right;\n",
       "    }\n",
       "</style>\n",
       "<table border=\"1\" class=\"dataframe\">\n",
       "  <thead>\n",
       "    <tr style=\"text-align: right;\">\n",
       "      <th></th>\n",
       "      <th>movieId</th>\n",
       "      <th>top_relevance</th>\n",
       "      <th>title</th>\n",
       "      <th>genres</th>\n",
       "      <th>combine_relevant</th>\n",
       "    </tr>\n",
       "  </thead>\n",
       "  <tbody>\n",
       "    <tr>\n",
       "      <th>4</th>\n",
       "      <td>5</td>\n",
       "      <td>father daughter relationship pregnancy midlife...</td>\n",
       "      <td>Father of the Bride Part II (1995)</td>\n",
       "      <td>comedy</td>\n",
       "      <td>father daughter relationship pregnancy midlife...</td>\n",
       "    </tr>\n",
       "  </tbody>\n",
       "</table>\n",
       "</div>"
      ],
      "text/plain": [
       "   movieId                                      top_relevance  \\\n",
       "4        5  father daughter relationship pregnancy midlife...   \n",
       "\n",
       "                                title  genres  \\\n",
       "4  Father of the Bride Part II (1995)  comedy   \n",
       "\n",
       "                                    combine_relevant  \n",
       "4  father daughter relationship pregnancy midlife...  "
      ]
     },
     "execution_count": 24,
     "metadata": {},
     "output_type": "execute_result"
    }
   ],
   "source": [
    "movies[movies['title']=='Father of the Bride Part II (1995)']"
   ]
  },
  {
   "cell_type": "code",
   "execution_count": 25,
   "id": "e6154c0a",
   "metadata": {
    "execution": {
     "iopub.execute_input": "2023-07-30T08:32:04.547608Z",
     "iopub.status.busy": "2023-07-30T08:32:04.546814Z",
     "iopub.status.idle": "2023-07-30T08:32:04.551776Z",
     "shell.execute_reply": "2023-07-30T08:32:04.551022Z"
    },
    "papermill": {
     "duration": 0.021521,
     "end_time": "2023-07-30T08:32:04.553949",
     "exception": false,
     "start_time": "2023-07-30T08:32:04.532428",
     "status": "completed"
    },
    "tags": []
   },
   "outputs": [],
   "source": [
    "user_list_movie=['Zombieland: Double Tap (2019)','Zombieland (2009)','Shaun of the Dead (2004)','Cockneys vs Zombies (2012)']"
   ]
  },
  {
   "cell_type": "code",
   "execution_count": 26,
   "id": "0694d1d6",
   "metadata": {
    "execution": {
     "iopub.execute_input": "2023-07-30T08:32:04.608063Z",
     "iopub.status.busy": "2023-07-30T08:32:04.607286Z",
     "iopub.status.idle": "2023-07-30T08:32:04.615766Z",
     "shell.execute_reply": "2023-07-30T08:32:04.614644Z"
    },
    "papermill": {
     "duration": 0.025412,
     "end_time": "2023-07-30T08:32:04.618156",
     "exception": false,
     "start_time": "2023-07-30T08:32:04.592744",
     "status": "completed"
    },
    "tags": []
   },
   "outputs": [],
   "source": [
    "def get_recommend_by_user_list(user_list):\n",
    "    feature_names = list(counter_vec.vocabulary_.keys())\n",
    "    user_vec = np.zeros((1, len(feature_names)))\n",
    "    for movie_name in user_list:\n",
    "        vector_tmp = counter_vec.transform( movies[movies['title'] == movie_name]['combine_relevant'])\n",
    "        user_vec+=vector_tmp.toarray()\n",
    "\n",
    "    \n",
    "\n",
    "    cosine = cosine_similarity(gerne_vec,user_vec)\n",
    "\n",
    "    sim_scores = list(enumerate(cosine))\n",
    "    \n",
    "\n",
    "    sim_scores = sorted(sim_scores, key=lambda x: x[1], reverse=True)\n",
    "\n",
    "    sim_scores = sim_scores[0:len(user_list)+11]\n",
    "\n",
    "    movie_indices = [i[0] for i in sim_scores]\n",
    "\n",
    "    return movies['title'].iloc[movie_indices]\n",
    "    \n",
    "    \n",
    "\n",
    "    "
   ]
  },
  {
   "cell_type": "code",
   "execution_count": 27,
   "id": "1054ce05",
   "metadata": {
    "execution": {
     "iopub.execute_input": "2023-07-30T08:32:04.645735Z",
     "iopub.status.busy": "2023-07-30T08:32:04.645353Z",
     "iopub.status.idle": "2023-07-30T08:32:04.805252Z",
     "shell.execute_reply": "2023-07-30T08:32:04.804121Z"
    },
    "papermill": {
     "duration": 0.176801,
     "end_time": "2023-07-30T08:32:04.807874",
     "exception": false,
     "start_time": "2023-07-30T08:32:04.631073",
     "status": "completed"
    },
    "tags": []
   },
   "outputs": [
    {
     "data": {
      "text/plain": [
       "11258    Juan of the Dead (Juan de los Muertos) (2011)\n",
       "11210                       Cockneys vs Zombies (2012)\n",
       "9966                                 Zombieland (2009)\n",
       "12548     Scouts Guide to the Zombie Apocalypse (2015)\n",
       "7098                          Shaun of the Dead (2004)\n",
       "5249               Chopper Chicks in Zombietown (1989)\n",
       "4075          Return of the Living Dead Part II (1988)\n",
       "10053                                  Doghouse (2009)\n",
       "12563                                   Cooties (2015)\n",
       "10499                     Tucker & Dale vs Evil (2010)\n",
       "11957                Dead Snow 2: Red vs. Dead (2014) \n",
       "10898                             Revenant, The (2009)\n",
       "2327                                 Idle Hands (1999)\n",
       "13811                    Zombieland: Double Tap (2019)\n",
       "13364                               Little Evil (2017)\n",
       "Name: title, dtype: object"
      ]
     },
     "execution_count": 27,
     "metadata": {},
     "output_type": "execute_result"
    }
   ],
   "source": [
    "get_recommend_by_user_list(user_list_movie)"
   ]
  }
 ],
 "metadata": {
  "kernelspec": {
   "display_name": "Python 3",
   "language": "python",
   "name": "python3"
  },
  "language_info": {
   "codemirror_mode": {
    "name": "ipython",
    "version": 3
   },
   "file_extension": ".py",
   "mimetype": "text/x-python",
   "name": "python",
   "nbconvert_exporter": "python",
   "pygments_lexer": "ipython3",
   "version": "3.10.12"
  },
  "papermill": {
   "default_parameters": {},
   "duration": 74.637488,
   "end_time": "2023-07-30T08:32:05.946821",
   "environment_variables": {},
   "exception": null,
   "input_path": "__notebook__.ipynb",
   "output_path": "__notebook__.ipynb",
   "parameters": {},
   "start_time": "2023-07-30T08:30:51.309333",
   "version": "2.4.0"
  }
 },
 "nbformat": 4,
 "nbformat_minor": 5
}
