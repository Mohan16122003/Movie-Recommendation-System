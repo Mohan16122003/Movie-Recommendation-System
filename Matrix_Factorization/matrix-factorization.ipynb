{
 "cells": [
  {
   "cell_type": "markdown",
   "id": "bb1fd93d",
   "metadata": {},
   "source": [
    "Model-Based Collaborative Filtering: Matrix Factorization"
   ]
  },
  {
   "cell_type": "code",
   "execution_count": 2,
   "id": "0cab8b3c",
   "metadata": {
    "execution": {
     "iopub.execute_input": "2023-08-19T14:13:09.063977Z",
     "iopub.status.busy": "2023-08-19T14:13:09.063590Z",
     "iopub.status.idle": "2023-08-19T14:13:09.172808Z",
     "shell.execute_reply": "2023-08-19T14:13:09.171865Z"
    },
    "papermill": {
     "duration": 0.116977,
     "end_time": "2023-08-19T14:13:09.175024",
     "exception": false,
     "start_time": "2023-08-19T14:13:09.058047",
     "status": "completed"
    },
    "tags": []
   },
   "outputs": [],
   "source": [
    "#!pip install surprise\n",
    "import pandas as pd\n",
    "from surprise import Reader, SVD, Dataset, accuracy\n",
    "from surprise.model_selection import GridSearchCV, train_test_split, cross_validate\n",
    "pd.set_option('display.max_columns', None)"
   ]
  },
  {
   "cell_type": "markdown",
   "id": "95495884",
   "metadata": {},
   "source": [
    " Preparing the Data Set"
   ]
  },
  {
   "cell_type": "code",
   "execution_count": 3,
   "id": "04b8eac6",
   "metadata": {
    "execution": {
     "iopub.execute_input": "2023-08-19T14:13:09.185312Z",
     "iopub.status.busy": "2023-08-19T14:13:09.184387Z",
     "iopub.status.idle": "2023-08-19T14:13:30.423935Z",
     "shell.execute_reply": "2023-08-19T14:13:30.422989Z"
    },
    "papermill": {
     "duration": 21.246438,
     "end_time": "2023-08-19T14:13:30.425837",
     "exception": false,
     "start_time": "2023-08-19T14:13:09.179399",
     "status": "completed"
    },
    "tags": []
   },
   "outputs": [
    {
     "data": {
      "text/html": [
       "<div>\n",
       "<style scoped>\n",
       "    .dataframe tbody tr th:only-of-type {\n",
       "        vertical-align: middle;\n",
       "    }\n",
       "\n",
       "    .dataframe tbody tr th {\n",
       "        vertical-align: top;\n",
       "    }\n",
       "\n",
       "    .dataframe thead th {\n",
       "        text-align: right;\n",
       "    }\n",
       "</style>\n",
       "<table border=\"1\" class=\"dataframe\">\n",
       "  <thead>\n",
       "    <tr style=\"text-align: right;\">\n",
       "      <th></th>\n",
       "      <th>movieId</th>\n",
       "      <th>title</th>\n",
       "      <th>genres</th>\n",
       "      <th>userId</th>\n",
       "      <th>rating</th>\n",
       "      <th>timestamp</th>\n",
       "    </tr>\n",
       "  </thead>\n",
       "  <tbody>\n",
       "    <tr>\n",
       "      <th>0</th>\n",
       "      <td>1</td>\n",
       "      <td>Toy Story (1995)</td>\n",
       "      <td>Adventure|Animation|Children|Comedy|Fantasy</td>\n",
       "      <td>2.0</td>\n",
       "      <td>3.5</td>\n",
       "      <td>1.141416e+09</td>\n",
       "    </tr>\n",
       "    <tr>\n",
       "      <th>1</th>\n",
       "      <td>1</td>\n",
       "      <td>Toy Story (1995)</td>\n",
       "      <td>Adventure|Animation|Children|Comedy|Fantasy</td>\n",
       "      <td>3.0</td>\n",
       "      <td>4.0</td>\n",
       "      <td>1.439472e+09</td>\n",
       "    </tr>\n",
       "    <tr>\n",
       "      <th>2</th>\n",
       "      <td>1</td>\n",
       "      <td>Toy Story (1995)</td>\n",
       "      <td>Adventure|Animation|Children|Comedy|Fantasy</td>\n",
       "      <td>4.0</td>\n",
       "      <td>3.0</td>\n",
       "      <td>1.573944e+09</td>\n",
       "    </tr>\n",
       "    <tr>\n",
       "      <th>3</th>\n",
       "      <td>1</td>\n",
       "      <td>Toy Story (1995)</td>\n",
       "      <td>Adventure|Animation|Children|Comedy|Fantasy</td>\n",
       "      <td>5.0</td>\n",
       "      <td>4.0</td>\n",
       "      <td>8.586259e+08</td>\n",
       "    </tr>\n",
       "    <tr>\n",
       "      <th>4</th>\n",
       "      <td>1</td>\n",
       "      <td>Toy Story (1995)</td>\n",
       "      <td>Adventure|Animation|Children|Comedy|Fantasy</td>\n",
       "      <td>8.0</td>\n",
       "      <td>4.0</td>\n",
       "      <td>8.904925e+08</td>\n",
       "    </tr>\n",
       "  </tbody>\n",
       "</table>\n",
       "</div>"
      ],
      "text/plain": [
       "   movieId             title                                       genres  \\\n",
       "0        1  Toy Story (1995)  Adventure|Animation|Children|Comedy|Fantasy   \n",
       "1        1  Toy Story (1995)  Adventure|Animation|Children|Comedy|Fantasy   \n",
       "2        1  Toy Story (1995)  Adventure|Animation|Children|Comedy|Fantasy   \n",
       "3        1  Toy Story (1995)  Adventure|Animation|Children|Comedy|Fantasy   \n",
       "4        1  Toy Story (1995)  Adventure|Animation|Children|Comedy|Fantasy   \n",
       "\n",
       "   userId  rating     timestamp  \n",
       "0     2.0     3.5  1.141416e+09  \n",
       "1     3.0     4.0  1.439472e+09  \n",
       "2     4.0     3.0  1.573944e+09  \n",
       "3     5.0     4.0  8.586259e+08  \n",
       "4     8.0     4.0  8.904925e+08  "
      ]
     },
     "execution_count": 3,
     "metadata": {},
     "output_type": "execute_result"
    }
   ],
   "source": [
    "movie = pd.read_csv('/kaggle/input/recommendation-system/ml-25m/movies.csv')\n",
    "rating = pd.read_csv('/kaggle/input/recommendation-system/ml-25m/ratings.csv')\n",
    "df = movie.merge(rating, how=\"left\", on=\"movieId\")\n",
    "df.head()"
   ]
  },
  {
   "cell_type": "code",
   "execution_count": 4,
   "id": "5cef4a65",
   "metadata": {
    "execution": {
     "iopub.execute_input": "2023-08-19T14:13:30.436321Z",
     "iopub.status.busy": "2023-08-19T14:13:30.435458Z",
     "iopub.status.idle": "2023-08-19T14:13:30.439733Z",
     "shell.execute_reply": "2023-08-19T14:13:30.439049Z"
    },
    "papermill": {
     "duration": 0.011239,
     "end_time": "2023-08-19T14:13:30.441439",
     "exception": false,
     "start_time": "2023-08-19T14:13:30.430200",
     "status": "completed"
    },
    "tags": []
   },
   "outputs": [],
   "source": [
    "movie_ids = [130219, 356, 4422, 541]\n",
    "movies = [\"The Dark Knight (2011)\",\n",
    "          \"Cries and Whispers (Viskningar och rop) (1972)\",\n",
    "          \"Forrest Gump (1994)\",\n",
    "          \"Blade Runner (1982)\"]"
   ]
  },
  {
   "cell_type": "code",
   "execution_count": 5,
   "id": "2fade51c",
   "metadata": {
    "execution": {
     "iopub.execute_input": "2023-08-19T14:13:30.451419Z",
     "iopub.status.busy": "2023-08-19T14:13:30.450750Z",
     "iopub.status.idle": "2023-08-19T14:13:31.017839Z",
     "shell.execute_reply": "2023-08-19T14:13:31.016731Z"
    },
    "papermill": {
     "duration": 0.574193,
     "end_time": "2023-08-19T14:13:31.019998",
     "exception": false,
     "start_time": "2023-08-19T14:13:30.445805",
     "status": "completed"
    },
    "tags": []
   },
   "outputs": [
    {
     "data": {
      "text/html": [
       "<div>\n",
       "<style scoped>\n",
       "    .dataframe tbody tr th:only-of-type {\n",
       "        vertical-align: middle;\n",
       "    }\n",
       "\n",
       "    .dataframe tbody tr th {\n",
       "        vertical-align: top;\n",
       "    }\n",
       "\n",
       "    .dataframe thead th {\n",
       "        text-align: right;\n",
       "    }\n",
       "</style>\n",
       "<table border=\"1\" class=\"dataframe\">\n",
       "  <thead>\n",
       "    <tr style=\"text-align: right;\">\n",
       "      <th></th>\n",
       "      <th>movieId</th>\n",
       "      <th>title</th>\n",
       "      <th>genres</th>\n",
       "      <th>userId</th>\n",
       "      <th>rating</th>\n",
       "      <th>timestamp</th>\n",
       "    </tr>\n",
       "  </thead>\n",
       "  <tbody>\n",
       "    <tr>\n",
       "      <th>2466478</th>\n",
       "      <td>356</td>\n",
       "      <td>Forrest Gump (1994)</td>\n",
       "      <td>Comedy|Drama|Romance|War</td>\n",
       "      <td>2.0</td>\n",
       "      <td>4.5</td>\n",
       "      <td>1.141417e+09</td>\n",
       "    </tr>\n",
       "    <tr>\n",
       "      <th>2466479</th>\n",
       "      <td>356</td>\n",
       "      <td>Forrest Gump (1994)</td>\n",
       "      <td>Comedy|Drama|Romance|War</td>\n",
       "      <td>3.0</td>\n",
       "      <td>4.0</td>\n",
       "      <td>1.439472e+09</td>\n",
       "    </tr>\n",
       "    <tr>\n",
       "      <th>2466480</th>\n",
       "      <td>356</td>\n",
       "      <td>Forrest Gump (1994)</td>\n",
       "      <td>Comedy|Drama|Romance|War</td>\n",
       "      <td>5.0</td>\n",
       "      <td>4.0</td>\n",
       "      <td>8.331467e+08</td>\n",
       "    </tr>\n",
       "    <tr>\n",
       "      <th>2466481</th>\n",
       "      <td>356</td>\n",
       "      <td>Forrest Gump (1994)</td>\n",
       "      <td>Comedy|Drama|Romance|War</td>\n",
       "      <td>8.0</td>\n",
       "      <td>5.0</td>\n",
       "      <td>8.904896e+08</td>\n",
       "    </tr>\n",
       "    <tr>\n",
       "      <th>2466482</th>\n",
       "      <td>356</td>\n",
       "      <td>Forrest Gump (1994)</td>\n",
       "      <td>Comedy|Drama|Romance|War</td>\n",
       "      <td>9.0</td>\n",
       "      <td>5.0</td>\n",
       "      <td>8.593834e+08</td>\n",
       "    </tr>\n",
       "  </tbody>\n",
       "</table>\n",
       "</div>"
      ],
      "text/plain": [
       "         movieId                title                    genres  userId  \\\n",
       "2466478      356  Forrest Gump (1994)  Comedy|Drama|Romance|War     2.0   \n",
       "2466479      356  Forrest Gump (1994)  Comedy|Drama|Romance|War     3.0   \n",
       "2466480      356  Forrest Gump (1994)  Comedy|Drama|Romance|War     5.0   \n",
       "2466481      356  Forrest Gump (1994)  Comedy|Drama|Romance|War     8.0   \n",
       "2466482      356  Forrest Gump (1994)  Comedy|Drama|Romance|War     9.0   \n",
       "\n",
       "         rating     timestamp  \n",
       "2466478     4.5  1.141417e+09  \n",
       "2466479     4.0  1.439472e+09  \n",
       "2466480     4.0  8.331467e+08  \n",
       "2466481     5.0  8.904896e+08  \n",
       "2466482     5.0  8.593834e+08  "
      ]
     },
     "execution_count": 5,
     "metadata": {},
     "output_type": "execute_result"
    }
   ],
   "source": [
    "sample_df = df[df.movieId.isin(movie_ids)]\n",
    "sample_df.head()"
   ]
  },
  {
   "cell_type": "code",
   "execution_count": 6,
   "id": "4893dfd7",
   "metadata": {
    "execution": {
     "iopub.execute_input": "2023-08-19T14:13:31.030552Z",
     "iopub.status.busy": "2023-08-19T14:13:31.030216Z",
     "iopub.status.idle": "2023-08-19T14:13:31.037002Z",
     "shell.execute_reply": "2023-08-19T14:13:31.035977Z"
    },
    "papermill": {
     "duration": 0.014374,
     "end_time": "2023-08-19T14:13:31.039020",
     "exception": false,
     "start_time": "2023-08-19T14:13:31.024646",
     "status": "completed"
    },
    "tags": []
   },
   "outputs": [
    {
     "data": {
      "text/plain": [
       "(118979, 6)"
      ]
     },
     "execution_count": 6,
     "metadata": {},
     "output_type": "execute_result"
    }
   ],
   "source": [
    "sample_df.shape"
   ]
  },
  {
   "cell_type": "code",
   "execution_count": 7,
   "id": "89abecc6",
   "metadata": {
    "execution": {
     "iopub.execute_input": "2023-08-19T14:13:31.049502Z",
     "iopub.status.busy": "2023-08-19T14:13:31.049223Z",
     "iopub.status.idle": "2023-08-19T14:13:31.155436Z",
     "shell.execute_reply": "2023-08-19T14:13:31.154535Z"
    },
    "papermill": {
     "duration": 0.114127,
     "end_time": "2023-08-19T14:13:31.157890",
     "exception": false,
     "start_time": "2023-08-19T14:13:31.043763",
     "status": "completed"
    },
    "tags": []
   },
   "outputs": [],
   "source": [
    "user_movie_df = sample_df.pivot_table(index=[\"userId\"],\n",
    "                                      columns=[\"title\"],\n",
    "                                      values=\"rating\")"
   ]
  },
  {
   "cell_type": "code",
   "execution_count": 8,
   "id": "fe3d28fa",
   "metadata": {
    "execution": {
     "iopub.execute_input": "2023-08-19T14:13:31.169114Z",
     "iopub.status.busy": "2023-08-19T14:13:31.168800Z",
     "iopub.status.idle": "2023-08-19T14:13:31.173204Z",
     "shell.execute_reply": "2023-08-19T14:13:31.172142Z"
    },
    "papermill": {
     "duration": 0.012367,
     "end_time": "2023-08-19T14:13:31.175337",
     "exception": false,
     "start_time": "2023-08-19T14:13:31.162970",
     "status": "completed"
    },
    "tags": []
   },
   "outputs": [],
   "source": [
    "reader = Reader(rating_scale=(1, 5))"
   ]
  },
  {
   "cell_type": "code",
   "execution_count": 9,
   "id": "3da4fc8d",
   "metadata": {
    "execution": {
     "iopub.execute_input": "2023-08-19T14:13:31.186192Z",
     "iopub.status.busy": "2023-08-19T14:13:31.185882Z",
     "iopub.status.idle": "2023-08-19T14:13:31.320583Z",
     "shell.execute_reply": "2023-08-19T14:13:31.319398Z"
    },
    "papermill": {
     "duration": 0.142881,
     "end_time": "2023-08-19T14:13:31.323132",
     "exception": false,
     "start_time": "2023-08-19T14:13:31.180251",
     "status": "completed"
    },
    "tags": []
   },
   "outputs": [],
   "source": [
    "data = Dataset.load_from_df(sample_df[['userId',\n",
    "                                       'movieId',\n",
    "                                       'rating']], reader)"
   ]
  },
  {
   "cell_type": "markdown",
   "id": "db70c956",
   "metadata": {},
   "source": [
    "Modeling"
   ]
  },
  {
   "cell_type": "code",
   "execution_count": 10,
   "id": "046c3ec2",
   "metadata": {
    "execution": {
     "iopub.execute_input": "2023-08-19T14:13:31.334190Z",
     "iopub.status.busy": "2023-08-19T14:13:31.333846Z",
     "iopub.status.idle": "2023-08-19T14:13:33.772857Z",
     "shell.execute_reply": "2023-08-19T14:13:33.771304Z"
    },
    "papermill": {
     "duration": 2.447293,
     "end_time": "2023-08-19T14:13:33.775396",
     "exception": false,
     "start_time": "2023-08-19T14:13:31.328103",
     "status": "completed"
    },
    "tags": []
   },
   "outputs": [],
   "source": [
    "trainset, testset = train_test_split(data, test_size=.25)\n",
    "svd_model = SVD()\n",
    "svd_model.fit(trainset)\n",
    "predictions = svd_model.test(testset)"
   ]
  },
  {
   "cell_type": "code",
   "execution_count": 11,
   "id": "6e10824f",
   "metadata": {
    "execution": {
     "iopub.execute_input": "2023-08-19T14:13:33.788962Z",
     "iopub.status.busy": "2023-08-19T14:13:33.788588Z",
     "iopub.status.idle": "2023-08-19T14:13:33.806235Z",
     "shell.execute_reply": "2023-08-19T14:13:33.805310Z"
    },
    "papermill": {
     "duration": 0.025955,
     "end_time": "2023-08-19T14:13:33.808457",
     "exception": false,
     "start_time": "2023-08-19T14:13:33.782502",
     "status": "completed"
    },
    "tags": []
   },
   "outputs": [
    {
     "name": "stdout",
     "output_type": "stream",
     "text": [
      "user: 3.0        item: 4422       r_ui = None   est = 4.04   {'was_impossible': False}\n",
      "user: 3.0        item: 541        r_ui = None   est = 3.98   {'was_impossible': False}\n"
     ]
    },
    {
     "data": {
      "text/html": [
       "<div>\n",
       "<style scoped>\n",
       "    .dataframe tbody tr th:only-of-type {\n",
       "        vertical-align: middle;\n",
       "    }\n",
       "\n",
       "    .dataframe tbody tr th {\n",
       "        vertical-align: top;\n",
       "    }\n",
       "\n",
       "    .dataframe thead th {\n",
       "        text-align: right;\n",
       "    }\n",
       "</style>\n",
       "<table border=\"1\" class=\"dataframe\">\n",
       "  <thead>\n",
       "    <tr style=\"text-align: right;\">\n",
       "      <th></th>\n",
       "      <th>movieId</th>\n",
       "      <th>title</th>\n",
       "      <th>genres</th>\n",
       "      <th>userId</th>\n",
       "      <th>rating</th>\n",
       "      <th>timestamp</th>\n",
       "    </tr>\n",
       "  </thead>\n",
       "  <tbody>\n",
       "    <tr>\n",
       "      <th>2466479</th>\n",
       "      <td>356</td>\n",
       "      <td>Forrest Gump (1994)</td>\n",
       "      <td>Comedy|Drama|Romance|War</td>\n",
       "      <td>3.0</td>\n",
       "      <td>4.0</td>\n",
       "      <td>1.439472e+09</td>\n",
       "    </tr>\n",
       "    <tr>\n",
       "      <th>3614459</th>\n",
       "      <td>541</td>\n",
       "      <td>Blade Runner (1982)</td>\n",
       "      <td>Action|Sci-Fi|Thriller</td>\n",
       "      <td>3.0</td>\n",
       "      <td>5.0</td>\n",
       "      <td>1.439475e+09</td>\n",
       "    </tr>\n",
       "  </tbody>\n",
       "</table>\n",
       "</div>"
      ],
      "text/plain": [
       "         movieId                title                    genres  userId  \\\n",
       "2466479      356  Forrest Gump (1994)  Comedy|Drama|Romance|War     3.0   \n",
       "3614459      541  Blade Runner (1982)    Action|Sci-Fi|Thriller     3.0   \n",
       "\n",
       "         rating     timestamp  \n",
       "2466479     4.0  1.439472e+09  \n",
       "3614459     5.0  1.439475e+09  "
      ]
     },
     "execution_count": 11,
     "metadata": {},
     "output_type": "execute_result"
    }
   ],
   "source": [
    "svd_model.predict(uid=3.0, iid=4422, verbose=True)\n",
    "svd_model.predict(uid=3.0, iid=541, verbose=True)\n",
    "sample_df[sample_df[\"userId\"] == 3]"
   ]
  },
  {
   "cell_type": "code",
   "execution_count": 12,
   "id": "d5f14138",
   "metadata": {
    "execution": {
     "iopub.execute_input": "2023-08-19T14:13:33.820460Z",
     "iopub.status.busy": "2023-08-19T14:13:33.820097Z",
     "iopub.status.idle": "2023-08-19T14:13:33.847399Z",
     "shell.execute_reply": "2023-08-19T14:13:33.846201Z"
    },
    "papermill": {
     "duration": 0.035892,
     "end_time": "2023-08-19T14:13:33.849635",
     "exception": false,
     "start_time": "2023-08-19T14:13:33.813743",
     "status": "completed"
    },
    "tags": []
   },
   "outputs": [
    {
     "name": "stdout",
     "output_type": "stream",
     "text": [
      "RMSE: 0.9343\n"
     ]
    },
    {
     "data": {
      "text/plain": [
       "0.9343183062043834"
      ]
     },
     "execution_count": 12,
     "metadata": {},
     "output_type": "execute_result"
    }
   ],
   "source": [
    "accuracy.rmse(predictions)"
   ]
  },
  {
   "cell_type": "markdown",
   "id": "dfd3f09e",
   "metadata": {},
   "source": [
    "Model Tuning"
   ]
  },
  {
   "cell_type": "code",
   "execution_count": 13,
   "id": "aaf63f49",
   "metadata": {
    "execution": {
     "iopub.execute_input": "2023-08-19T14:13:33.862164Z",
     "iopub.status.busy": "2023-08-19T14:13:33.861766Z",
     "iopub.status.idle": "2023-08-19T14:13:33.866756Z",
     "shell.execute_reply": "2023-08-19T14:13:33.865745Z"
    },
    "papermill": {
     "duration": 0.013628,
     "end_time": "2023-08-19T14:13:33.868771",
     "exception": false,
     "start_time": "2023-08-19T14:13:33.855143",
     "status": "completed"
    },
    "tags": []
   },
   "outputs": [],
   "source": [
    "param_grid = {'n_epochs': [5, 10, 20, 18, 15],\n",
    "              'lr_all': [0.001, 0.002, 0.0015, 0.005, 0.007]}"
   ]
  },
  {
   "cell_type": "code",
   "execution_count": 14,
   "id": "6fc07e53",
   "metadata": {
    "execution": {
     "iopub.execute_input": "2023-08-19T14:13:33.881598Z",
     "iopub.status.busy": "2023-08-19T14:13:33.881229Z",
     "iopub.status.idle": "2023-08-19T14:14:17.772466Z",
     "shell.execute_reply": "2023-08-19T14:14:17.771160Z"
    },
    "papermill": {
     "duration": 43.905096,
     "end_time": "2023-08-19T14:14:17.779285",
     "exception": false,
     "start_time": "2023-08-19T14:13:33.874189",
     "status": "completed"
    },
    "tags": []
   },
   "outputs": [
    {
     "name": "stderr",
     "output_type": "stream",
     "text": [
      "[Parallel(n_jobs=-1)]: Using backend LokyBackend with 4 concurrent workers.\n",
      "[Parallel(n_jobs=-1)]: Done  42 tasks      | elapsed:   23.7s\n",
      "[Parallel(n_jobs=-1)]: Done  75 out of  75 | elapsed:   43.0s finished\n"
     ]
    },
    {
     "data": {
      "text/plain": [
       "{'n_epochs': 15, 'lr_all': 0.001}"
      ]
     },
     "execution_count": 14,
     "metadata": {},
     "output_type": "execute_result"
    }
   ],
   "source": [
    "gs = GridSearchCV(SVD,\n",
    "                  param_grid,\n",
    "                  measures=['rmse', 'mae'],\n",
    "                  cv=3,\n",
    "                  n_jobs=-1,\n",
    "                  joblib_verbose=True)\n",
    "gs.fit(data)\n",
    "gs.best_score['rmse']\n",
    "gs.best_params['rmse']"
   ]
  },
  {
   "cell_type": "markdown",
   "id": "d5150876",
   "metadata": {},
   "source": [
    "Final Model and Prediction"
   ]
  },
  {
   "cell_type": "code",
   "execution_count": 15,
   "id": "4e64bd7c",
   "metadata": {
    "execution": {
     "iopub.execute_input": "2023-08-19T14:14:17.791720Z",
     "iopub.status.busy": "2023-08-19T14:14:17.791184Z",
     "iopub.status.idle": "2023-08-19T14:14:19.461116Z",
     "shell.execute_reply": "2023-08-19T14:14:19.460281Z"
    },
    "papermill": {
     "duration": 1.678837,
     "end_time": "2023-08-19T14:14:19.463443",
     "exception": false,
     "start_time": "2023-08-19T14:14:17.784606",
     "status": "completed"
    },
    "tags": []
   },
   "outputs": [
    {
     "name": "stdout",
     "output_type": "stream",
     "text": [
      "user: 3.0        item: 541        r_ui = None   est = 4.27   {'was_impossible': False}\n"
     ]
    },
    {
     "data": {
      "text/plain": [
       "Prediction(uid=3.0, iid=541, r_ui=None, est=4.265594767375949, details={'was_impossible': False})"
      ]
     },
     "execution_count": 15,
     "metadata": {},
     "output_type": "execute_result"
    }
   ],
   "source": [
    "dir(svd_model)\n",
    "svd_model.n_epochs\n",
    "svd_model = SVD(**gs.best_params['rmse'])\n",
    "data = data.build_full_trainset()\n",
    "svd_model.fit(data)\n",
    "svd_model.predict(uid=3.0, iid=541, verbose=True)"
   ]
  }
 ],
 "metadata": {
  "kernelspec": {
   "display_name": "Python 3",
   "language": "python",
   "name": "python3"
  },
  "language_info": {
   "codemirror_mode": {
    "name": "ipython",
    "version": 3
   },
   "file_extension": ".py",
   "mimetype": "text/x-python",
   "name": "python",
   "nbconvert_exporter": "python",
   "pygments_lexer": "ipython3",
   "version": "3.10.12"
  },
  "papermill": {
   "default_parameters": {},
   "duration": 93.759695,
   "end_time": "2023-08-19T14:14:22.089558",
   "environment_variables": {},
   "exception": null,
   "input_path": "__notebook__.ipynb",
   "output_path": "__notebook__.ipynb",
   "parameters": {},
   "start_time": "2023-08-19T14:12:48.329863",
   "version": "2.4.0"
  }
 },
 "nbformat": 4,
 "nbformat_minor": 5
}
